{
  "nbformat": 4,
  "nbformat_minor": 0,
  "metadata": {
    "colab": {
      "name": "np-arrays.ipynb",
      "provenance": [],
      "collapsed_sections": [],
      "authorship_tag": "ABX9TyOLLfxeMxuEzOdsNJwHS0K+",
      "include_colab_link": true
    },
    "kernelspec": {
      "name": "python3",
      "display_name": "Python 3"
    },
    "language_info": {
      "name": "python"
    }
  },
  "cells": [
    {
      "cell_type": "markdown",
      "metadata": {
        "id": "view-in-github",
        "colab_type": "text"
      },
      "source": [
        "<a href=\"https://colab.research.google.com/github/khaleel-wilp/home/blob/main/np_arrays.ipynb\" target=\"_parent\"><img src=\"https://colab.research.google.com/assets/colab-badge.svg\" alt=\"Open In Colab\"/></a>"
      ]
    },
    {
      "cell_type": "code",
      "metadata": {
        "colab": {
          "base_uri": "https://localhost:8080/"
        },
        "id": "uB-_zgmdQkAv",
        "outputId": "8dbaaa3c-f7fc-463e-bac3-1468f590d7bc"
      },
      "source": [
        "import numpy as np\n",
        "x = np.arange(10)\n",
        "print(x)\n",
        "print(x[:5])\n",
        "print(x[5:])\n",
        "print(x[4:8])\n",
        "print(x[::2])\n",
        "print(x[2::3])\n",
        "print(x[::-1])\n",
        "print(x[7::-2])"
      ],
      "execution_count": 10,
      "outputs": [
        {
          "output_type": "stream",
          "text": [
            "[0 1 2 3 4 5 6 7 8 9]\n",
            "[0 1 2 3 4]\n",
            "[5 6 7 8 9]\n",
            "[4 5 6 7]\n",
            "[0 2 4 6 8]\n",
            "[2 5 8]\n",
            "[9 8 7 6 5 4 3 2 1 0]\n",
            "[7 5 3 1]\n"
          ],
          "name": "stdout"
        }
      ]
    },
    {
      "cell_type": "code",
      "metadata": {
        "colab": {
          "base_uri": "https://localhost:8080/"
        },
        "id": "joY223eYbqcN",
        "outputId": "55535b8d-11c9-4510-8a81-f58597b67a5a"
      },
      "source": [
        "y = np.arange(15).reshape(3,5)\n",
        "print(y)\n",
        "print(y[0])\n",
        "print(y[:,0])\n",
        "print(y[:2,:3])\n",
        "print(y[:2,::2])\n",
        "print(y[::-1])\n",
        "print(y[:,::-1])\n",
        "print(y[::-1,::-1])\n",
        "print(y[::2,::2])"
      ],
      "execution_count": 27,
      "outputs": [
        {
          "output_type": "stream",
          "text": [
            "[[ 0  1  2  3  4]\n",
            " [ 5  6  7  8  9]\n",
            " [10 11 12 13 14]]\n",
            "[0 1 2 3 4]\n",
            "[ 0  5 10]\n",
            "[[0 1 2]\n",
            " [5 6 7]]\n",
            "[[0 2 4]\n",
            " [5 7 9]]\n",
            "[[10 11 12 13 14]\n",
            " [ 5  6  7  8  9]\n",
            " [ 0  1  2  3  4]]\n",
            "[[ 4  3  2  1  0]\n",
            " [ 9  8  7  6  5]\n",
            " [14 13 12 11 10]]\n",
            "[[14 13 12 11 10]\n",
            " [ 9  8  7  6  5]\n",
            " [ 4  3  2  1  0]]\n",
            "[[ 0  2  4]\n",
            " [10 12 14]]\n"
          ],
          "name": "stdout"
        }
      ]
    },
    {
      "cell_type": "code",
      "metadata": {
        "colab": {
          "base_uri": "https://localhost:8080/"
        },
        "id": "IqKBLWphhcOF",
        "outputId": "7b3b9edb-93dd-459b-9d81-da814380410c"
      },
      "source": [
        "z = np.arange(60).reshape(3,4,5)\n",
        "print(z)\n",
        "print(z[0])\n",
        "print(z[0][1])\n",
        "print(z[0,1])\n",
        "print(z[1][1][4])\n",
        "print(z[1,1,4])\n",
        "print(z[1:,0])\n",
        "print(z[1:,0:2,1:4])"
      ],
      "execution_count": 36,
      "outputs": [
        {
          "output_type": "stream",
          "text": [
            "[[[ 0  1  2  3  4]\n",
            "  [ 5  6  7  8  9]\n",
            "  [10 11 12 13 14]\n",
            "  [15 16 17 18 19]]\n",
            "\n",
            " [[20 21 22 23 24]\n",
            "  [25 26 27 28 29]\n",
            "  [30 31 32 33 34]\n",
            "  [35 36 37 38 39]]\n",
            "\n",
            " [[40 41 42 43 44]\n",
            "  [45 46 47 48 49]\n",
            "  [50 51 52 53 54]\n",
            "  [55 56 57 58 59]]]\n",
            "[[ 0  1  2  3  4]\n",
            " [ 5  6  7  8  9]\n",
            " [10 11 12 13 14]\n",
            " [15 16 17 18 19]]\n",
            "[5 6 7 8 9]\n",
            "[5 6 7 8 9]\n",
            "29\n",
            "29\n",
            "[[20 21 22 23 24]\n",
            " [40 41 42 43 44]]\n",
            "[[[21 22 23]\n",
            "  [26 27 28]]\n",
            "\n",
            " [[41 42 43]\n",
            "  [46 47 48]]]\n"
          ],
          "name": "stdout"
        }
      ]
    }
  ]
}