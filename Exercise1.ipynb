{
 "cells": [
  {
   "cell_type": "markdown",
   "metadata": {},
   "source": [
    "*** Given a number, find the sum of its digits. Take the number as an input from the user ***"
   ]
  },
  {
   "cell_type": "markdown",
   "metadata": {},
   "source": [
    "<b> Method 1 </b>"
   ]
  },
  {
   "cell_type": "code",
   "execution_count": null,
   "metadata": {},
   "outputs": [],
   "source": [
    "x = input('Enter a no: ')\n",
    "sum = 0\n",
    "for i in range(len(x)):\n",
    "    sum = sum + int(x[i])\n",
    "print(sum)"
   ]
  },
  {
   "cell_type": "markdown",
   "metadata": {},
   "source": [
    "<b> Method 2 </b>"
   ]
  },
  {
   "cell_type": "code",
   "execution_count": null,
   "metadata": {},
   "outputs": [],
   "source": [
    "x = int(input('Enter a no: '))\n",
    "sum=0\n",
    "while x > 0:\n",
    "    sum = sum + x % 10\n",
    "    x = x //10\n",
    "print(sum)"
   ]
  },
  {
   "cell_type": "markdown",
   "metadata": {},
   "source": [
    "*** Given a number, check whether the given number is an\n",
    "Armstrong number or not. A positive integer is called an\n",
    "Armstrong number of order n if:\n",
    "    abcd... = an + bn + cn + dn + ...\n",
    "Example: 153 = 1*1*1 + 5*5*5 + 3*3*3\n",
    "153 is an Armstrong number of order 3.\n",
    "Inputs from the user will be number and order n. ***"
   ]
  },
  {
   "cell_type": "markdown",
   "metadata": {},
   "source": [
    "<b> Method 1 </b>"
   ]
  },
  {
   "cell_type": "code",
   "execution_count": 9,
   "metadata": {},
   "outputs": [
    {
     "name": "stdout",
     "output_type": "stream",
     "text": [
      "Enter a no: 456\n",
      "What order want to be chcked: 3\n",
      "The given no 456 is not an Armsrong number of order 3\n"
     ]
    }
   ],
   "source": [
    "x = int(input('Enter a no: '))\n",
    "o = int(input('What order want to be chcked: '))\n",
    "sum = 0\n",
    "tn = x\n",
    "while tn > 0:\n",
    "    r = tn % 10\n",
    "    sum = sum + r ** o\n",
    "    tn = tn // 10\n",
    "if sum == x:\n",
    "    print (\"The given no\", x , 'is an Armsrong number of order', o)\n",
    "else:\n",
    "    print (\"The given no\", x , 'is not an Armsrong number of order', o)"
   ]
  },
  {
   "cell_type": "markdown",
   "metadata": {},
   "source": [
    "<b> Method 2 </b>"
   ]
  },
  {
   "cell_type": "code",
   "execution_count": 12,
   "metadata": {},
   "outputs": [
    {
     "name": "stdout",
     "output_type": "stream",
     "text": [
      "Enter a no: 333\n",
      "What order want to be chcked: 3\n",
      "The given no 333 is not an Armsrong number of order 3\n"
     ]
    }
   ],
   "source": [
    "x = input('Enter a no: ')\n",
    "o = input('What order want to be chcked: ')\n",
    "sum = 0\n",
    "for i in range(len(x)):\n",
    "    sum = sum + int(x[i]) ** int(o)\n",
    "if sum == int(x):\n",
    "    print (\"The given no\", x , 'is an Armsrong number of order', o)\n",
    "else:\n",
    "    print (\"The given no\", x , 'is not an Armsrong number of order', o)"
   ]
  },
  {
   "cell_type": "markdown",
   "metadata": {},
   "source": [
    "*** Given a string, write a python function to check if it is\n",
    "palindrome or not. A string is said to be palindrome if the reverse\n",
    "of the string is the same as string. For example, “malayalam” is a\n",
    "palindrome, but “music” is not a palindrome. ***"
   ]
  },
  {
   "cell_type": "code",
   "execution_count": 18,
   "metadata": {},
   "outputs": [
    {
     "name": "stdout",
     "output_type": "stream",
     "text": [
      "Enter a word: asdsa\n",
      "The word \" asdsa \" is a palindrome\n"
     ]
    }
   ],
   "source": [
    "x = input('Enter a word: ')\n",
    "if x[:] == x[::-1]:\n",
    "    print('The word \\\"', x , '\\\" is a palindrome')\n",
    "else:\n",
    "    print('The word \\\"', x , '\\\" is not a palindrome')"
   ]
  },
  {
   "cell_type": "markdown",
   "metadata": {},
   "source": [
    "*** Given an array which may contain duplicates, print all elements\n",
    "and their frequencies.***"
   ]
  },
  {
   "cell_type": "markdown",
   "metadata": {},
   "source": [
    "<b> Method 1 </b>"
   ]
  },
  {
   "cell_type": "code",
   "execution_count": 24,
   "metadata": {},
   "outputs": [
    {
     "name": "stdout",
     "output_type": "stream",
     "text": [
      "Enter a list: abcdefghihgfdsec123454321455331\n",
      "{'a': 1, 'b': 1, 'c': 2, 'd': 2, 'e': 2, 'f': 2, 'g': 2, 'h': 2, 'i': 1, 's': 1, '1': 3, '2': 2, '3': 4, '4': 3, '5': 3}\n"
     ]
    }
   ],
   "source": [
    "lst = list(input('Enter a list: '))\n",
    "ld = {}\n",
    "for x in lst:\n",
    "    if x not in ld:\n",
    "        ld[x] = 1\n",
    "    else:\n",
    "        ld[x] = ld[x] + 1    \n",
    "print(ld)        "
   ]
  },
  {
   "cell_type": "markdown",
   "metadata": {},
   "source": [
    "<b> Method 2 </b>"
   ]
  },
  {
   "cell_type": "code",
   "execution_count": 27,
   "metadata": {},
   "outputs": [
    {
     "name": "stdout",
     "output_type": "stream",
     "text": [
      "[[6, 3, 9, 0, 9], [3, 2, 2, 5, 9], [6, 5, 9, 9, 2], [9, 2, 0, 1, 4], [1, 8, 7, 1, 2]]\n",
      "{6: 2, 3: 2, 9: 6, 0: 2, 2: 5, 5: 2, 1: 3, 4: 1, 8: 1, 7: 1}\n"
     ]
    }
   ],
   "source": [
    "import random\n",
    "\n",
    "x = [random.choices(range(0,10), k=5) for i in range(5)]\n",
    "ld = {}\n",
    "for n in x:\n",
    "    for c in n:\n",
    "        ld[c] = ld.get(c,0) + 1\n",
    "print (x)\n",
    "print (ld)        "
   ]
  },
  {
   "cell_type": "markdown",
   "metadata": {},
   "source": [
    "*** Given a number n, write a function to print all prime factors of\n",
    "n. For example, if the input number is 12, then output should be\n",
    "“2 2 3”. ***"
   ]
  },
  {
   "cell_type": "code",
   "execution_count": 33,
   "metadata": {},
   "outputs": [
    {
     "name": "stdout",
     "output_type": "stream",
     "text": [
      "Enter a no: 546\n",
      "2 3 7 13 "
     ]
    }
   ],
   "source": [
    "n = int(input('Enter a no: '))\n",
    "pl = []\n",
    "for i in range(2,n+1):\n",
    "    if n % i == 0:\n",
    "        pl.append(i)\n",
    "for x in pl:\n",
    "    fl = []\n",
    "    for i in range(1,x+1):\n",
    "        if x % i == 0:\n",
    "            fl.append(i)\n",
    "    if fl == [1,x]:\n",
    "        print(x, end=\" \")"
   ]
  },
  {
   "cell_type": "markdown",
   "metadata": {},
   "source": [
    "***Given two numbers n and r, find the value of nCr (binomial\n",
    "coefficient: nCr = (n!) / (r! * (n-r)!)) ***"
   ]
  },
  {
   "cell_type": "code",
   "execution_count": 17,
   "metadata": {},
   "outputs": [
    {
     "name": "stdout",
     "output_type": "stream",
     "text": [
      "Enter first no: 300\n",
      "Enter second no: 150\n",
      "The binomial coefficient of given numbers 300 & 150 is 9.375970277282745e+88\n"
     ]
    }
   ],
   "source": [
    "n = int(input('Enter first no: '))\n",
    "r = int(input('Enter second no: '))\n",
    "def factorial(x):\n",
    "    if x == 0:\n",
    "        return 1\n",
    "    else:\n",
    "        return x * factorial(x-1)\n",
    "\n",
    "bc = factorial(n) / (factorial(r) * factorial(n-r))\n",
    "print('The binomial coefficient of given numbers', n, '&', r, 'is', bc)"
   ]
  },
  {
   "cell_type": "markdown",
   "metadata": {},
   "source": [
    "***Searching: Given a sorted array arr[] of n elements, write a\n",
    "function to search a given element x in arr[]. Do it using linear\n",
    "and binary search techniques.***"
   ]
  },
  {
   "cell_type": "code",
   "execution_count": 45,
   "metadata": {},
   "outputs": [
    {
     "name": "stdout",
     "output_type": "stream",
     "text": [
      "Enter no of elements in the list: 10\n",
      "5\n",
      "7\n",
      "3\n",
      "9\n",
      "2\n",
      "4\n",
      "1\n",
      "0\n",
      "6\n",
      "12\n",
      "The input list: [5, 7, 3, 9, 2, 4, 1, 0, 6, 12]\n",
      "The sorted list: [0, 1, 2, 3, 4, 5, 6, 7, 9, 12]\n",
      "Enter the no to be searched: 12\n",
      "12 found in the list\n",
      "12 found in the list\n"
     ]
    }
   ],
   "source": [
    "n = int(input('Enter no of elements in the list: '))\n",
    "lst = []\n",
    "for i in range(n):\n",
    "    el = int(input())\n",
    "    lst.append(el)\n",
    "print ('The input list:', lst)  \n",
    "\n",
    "sl = sorted(lst)\n",
    "print('The sorted list:', sl)\n",
    "\n",
    "x = int(input('Enter the no to be searched: '))\n",
    "\n",
    "# Linear Search\n",
    "if x not in lst:\n",
    "    print (x, 'not found in the list')\n",
    "else:\n",
    "    print(x, 'found in the list')\n",
    "    \n",
    "# Binary Search\n",
    "l = 0\n",
    "h = len(sl) - 1\n",
    "m = 0\n",
    "while l <= h:\n",
    "    m = (l + h) // 2\n",
    "    if sl[m] > x:\n",
    "        h = m -1\n",
    "    elif sl[m] < x:\n",
    "        l = m + 1\n",
    "    elif sl[m] == x:\n",
    "         print(x, 'found in the list')\n",
    "         break\n",
    "    else:\n",
    "        print(x, 'not found in the list')"
   ]
  },
  {
   "cell_type": "markdown",
   "metadata": {},
   "source": [
    "***Input a text file (containing 1 or more paragraphs of English\n",
    "text) from the user, parse this file to display the frequency of\n",
    "occurrence of each word in this text file. Find the 3 most frequent\n",
    "words as well.***"
   ]
  },
  {
   "cell_type": "code",
   "execution_count": 40,
   "metadata": {},
   "outputs": [
    {
     "name": "stdout",
     "output_type": "stream",
     "text": [
      "Enter file name: data/romeo.txt\n",
      "{'But': 1, 'soft': 1, 'what': 1, 'light': 1, 'through': 1, 'yonder': 1, 'window': 1, 'breaks': 1, 'It': 1, 'is': 3, 'the': 3, 'east': 1, 'and': 3, 'Juliet': 1, 'sun': 2, 'Arise': 1, 'fair': 1, 'kill': 1, 'envious': 1, 'moon': 1, 'Who': 1, 'already': 1, 'sick': 1, 'pale': 1, 'with': 1, 'grief': 1}\n",
      "3 the\n",
      "3 is\n",
      "3 and\n"
     ]
    }
   ],
   "source": [
    "fname = input('Enter file name: ')\n",
    "fhand = open(fname)\n",
    "counts = {}\n",
    "for line in fhand:\n",
    "    line = line.rstrip()\n",
    "    words = line.split()\n",
    "    for word in words:\n",
    "        if word not in counts:\n",
    "            counts[word] = 1\n",
    "        else:\n",
    "            counts[word] = counts[word] + 1\n",
    "print(counts)\n",
    "\n",
    "lst = list()\n",
    "for key, val in list(counts.items()):\n",
    "    lst.append((val, key))\n",
    "\n",
    "lst.sort(reverse=True)\n",
    "\n",
    "for key, val in lst[:3]:\n",
    "    print(key, val)"
   ]
  }
 ],
 "metadata": {
  "kernelspec": {
   "display_name": "Python 3",
   "language": "python",
   "name": "python3"
  },
  "language_info": {
   "codemirror_mode": {
    "name": "ipython",
    "version": 3
   },
   "file_extension": ".py",
   "mimetype": "text/x-python",
   "name": "python",
   "nbconvert_exporter": "python",
   "pygments_lexer": "ipython3",
   "version": "3.8.5"
  }
 },
 "nbformat": 4,
 "nbformat_minor": 4
}
